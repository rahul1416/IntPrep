{
 "cells": [
  {
   "cell_type": "code",
   "execution_count": 2,
   "metadata": {},
   "outputs": [],
   "source": [
    "import pandas as pd\n",
    "df = pd.read_csv('question/data.csv')"
   ]
  },
  {
   "cell_type": "code",
   "execution_count": 3,
   "metadata": {},
   "outputs": [],
   "source": [
    "import requests\n",
    "import re\n",
    "import json\n",
    "def generate_response(model, prompt):\n",
    "    url = \"http://localhost:11434/api/generate\"\n",
    "    payload = {\n",
    "        \"model\": model,\n",
    "        \"prompt\": prompt,\n",
    "        \"stream\": False,\n",
    "    }\n",
    "    headers = {\"Content-Type\": \"application/json\"}\n",
    "\n",
    "    response = requests.post(url, json=payload, headers=headers)\n",
    "\n",
    "    if response.status_code == 200:\n",
    "        response_data = response.json()\n",
    "        if \"response\" in response_data:\n",
    "            return response_data[\"response\"]\n",
    "        else:\n",
    "            return \"No response field found in the response content.\"\n",
    "    else:\n",
    "        return f\"Error: {response.text}\""
   ]
  },
  {
   "cell_type": "code",
   "execution_count": 6,
   "metadata": {},
   "outputs": [
    {
     "name": "stdout",
     "output_type": "stream",
     "text": [
      "Response Content:  Based on your response, I would score your experience as a 9. You have a significant amount of experience (3 years out of a 7-year career) focused specifically on building and fine-tuning NLP systems and chatbots within the travel domain. Additionally, you've provided evidence of leading a team to develop such technology for a corporate travel management platform using advanced techniques like transformer models and fine-tuning.\n",
      "['9', '3', '7']\n",
      "9\n"
     ]
    }
   ],
   "source": [
    "model = \"interview\"\n",
    "prompt_1 = df['question'][0]\n",
    "prompt_2 = df['answer'][0]\n",
    "prompt = prompt_1 + prompt_2\n",
    "response_content = generate_response(model, prompt)\n",
    "print(\"Response Content:\", response_content)\n",
    "integers = re.findall(r'\\d+', response_content)\n",
    "print(integers)\n",
    "print(integers[0])"
   ]
  },
  {
   "cell_type": "code",
   "execution_count": null,
   "metadata": {},
   "outputs": [],
   "source": []
  },
  {
   "cell_type": "code",
   "execution_count": 31,
   "metadata": {},
   "outputs": [
    {
     "data": {
      "text/html": [
       "<div>\n",
       "<style scoped>\n",
       "    .dataframe tbody tr th:only-of-type {\n",
       "        vertical-align: middle;\n",
       "    }\n",
       "\n",
       "    .dataframe tbody tr th {\n",
       "        vertical-align: top;\n",
       "    }\n",
       "\n",
       "    .dataframe thead th {\n",
       "        text-align: right;\n",
       "    }\n",
       "</style>\n",
       "<table border=\"1\" class=\"dataframe\">\n",
       "  <thead>\n",
       "    <tr style=\"text-align: right;\">\n",
       "      <th></th>\n",
       "      <th>Unnamed: 0</th>\n",
       "      <th>Video</th>\n",
       "      <th>Emotions</th>\n",
       "      <th>Transcribed_Text</th>\n",
       "    </tr>\n",
       "  </thead>\n",
       "  <tbody>\n",
       "    <tr>\n",
       "      <th>0</th>\n",
       "      <td>0</td>\n",
       "      <td>WIN_20240422_02_29_40_Pro.mp4</td>\n",
       "      <td>[Neutral, Neutral, Neutral, Neutral, Neutral, ...</td>\n",
       "      <td>I have over 7 years of experience in software ...</td>\n",
       "    </tr>\n",
       "    <tr>\n",
       "      <th>1</th>\n",
       "      <td>1</td>\n",
       "      <td>WIN_20240423_10_58_26_Pro.mp4</td>\n",
       "      <td>[Neutral, Neutral, Sad, Neutral, Neutral, Neut...</td>\n",
       "      <td>I am finally familiar with Transformer models ...</td>\n",
       "    </tr>\n",
       "    <tr>\n",
       "      <th>2</th>\n",
       "      <td>2</td>\n",
       "      <td>WIN_20240423_11_30_47_Pro.mp4</td>\n",
       "      <td>[Neutral, Neutral, Neutral, Neutral, Neutral, ...</td>\n",
       "      <td>one of the key challenges in designing a chatb...</td>\n",
       "    </tr>\n",
       "  </tbody>\n",
       "</table>\n",
       "</div>"
      ],
      "text/plain": [
       "   Unnamed: 0                          Video  \\\n",
       "0           0  WIN_20240422_02_29_40_Pro.mp4   \n",
       "1           1  WIN_20240423_10_58_26_Pro.mp4   \n",
       "2           2  WIN_20240423_11_30_47_Pro.mp4   \n",
       "\n",
       "                                            Emotions  \\\n",
       "0  [Neutral, Neutral, Neutral, Neutral, Neutral, ...   \n",
       "1  [Neutral, Neutral, Sad, Neutral, Neutral, Neut...   \n",
       "2  [Neutral, Neutral, Neutral, Neutral, Neutral, ...   \n",
       "\n",
       "                                    Transcribed_Text  \n",
       "0  I have over 7 years of experience in software ...  \n",
       "1  I am finally familiar with Transformer models ...  \n",
       "2  one of the key challenges in designing a chatb...  "
      ]
     },
     "execution_count": 31,
     "metadata": {},
     "output_type": "execute_result"
    }
   ],
   "source": []
  },
  {
   "cell_type": "code",
   "execution_count": 32,
   "metadata": {},
   "outputs": [
    {
     "data": {
      "text/plain": [
       "873"
      ]
     },
     "execution_count": 32,
     "metadata": {},
     "output_type": "execute_result"
    }
   ],
   "source": [
    "len(df['Emotions'][2])"
   ]
  },
  {
   "cell_type": "code",
   "execution_count": 34,
   "metadata": {},
   "outputs": [],
   "source": [
    "emotion_scores = {\n",
    "    'Angry': -2,\n",
    "    'Disgust': -1,\n",
    "    'Fear': 2,\n",
    "    'Happy': 2,\n",
    "    'Neutral': 1,\n",
    "    'Sad': -1,\n",
    "    'Surprise': 0.5,\n",
    "    'No_face_detected': 0\n",
    "}\n",
    "df = pd.read_csv('question/2024-04-23T06-04_export.csv')\n",
    "df['Emotions'] = df['Emotions'].apply(lambda x: x.strip(',').split(','))\n",
    "def sum_emotion_scores(emotion_list):\n",
    "    return sum(emotion_scores[emotion] for emotion in emotion_list)/len(emotion_list)\n",
    "\n",
    "df['Total_Score'] = df['Emotions'].apply(sum_emotion_scores)\n",
    "\n",
    "score = []\n",
    "remark = []\n",
    "for i in range (0,len(df)):\n",
    "    model = \"interview\"\n",
    "    prompt_1 = df['question'][i]\n",
    "    prompt_2 = df['Transcribed_Text'][i]\n",
    "    prompt = \"question:\" + prompt_1 + \"answer:\" + prompt_2\n",
    "    response_content = generate_response(model, prompt)\n",
    "    print(\"Response Content:\", response_content)\n",
    "    integers = re.findall(r'\\d+', response_content)\n",
    "    remark.append(response_content)\n",
    "    print(integers)\n",
    "    print(integers[0])\n",
    "    score.append(integers[0])\n",
    "df['score'] = score\n",
    "df['remark'] = remark\n",
    "\n",
    "df['Final_score'] = (5*df['Total_Score'] + df['score'].astype(int))/15\n",
    "df['Final_score']*100\n",
    "final = df['Final_score'].sum()/len(df)\n"
   ]
  },
  {
   "cell_type": "code",
   "execution_count": 35,
   "metadata": {},
   "outputs": [
    {
     "data": {
      "text/html": [
       "<div>\n",
       "<style scoped>\n",
       "    .dataframe tbody tr th:only-of-type {\n",
       "        vertical-align: middle;\n",
       "    }\n",
       "\n",
       "    .dataframe tbody tr th {\n",
       "        vertical-align: top;\n",
       "    }\n",
       "\n",
       "    .dataframe thead th {\n",
       "        text-align: right;\n",
       "    }\n",
       "</style>\n",
       "<table border=\"1\" class=\"dataframe\">\n",
       "  <thead>\n",
       "    <tr style=\"text-align: right;\">\n",
       "      <th></th>\n",
       "      <th>Unnamed: 0</th>\n",
       "      <th>Video</th>\n",
       "      <th>Emotions</th>\n",
       "      <th>Transcribed_Text</th>\n",
       "      <th>Total_Score</th>\n",
       "    </tr>\n",
       "  </thead>\n",
       "  <tbody>\n",
       "    <tr>\n",
       "      <th>0</th>\n",
       "      <td>0</td>\n",
       "      <td>WIN_20240422_02_29_40_Pro.mp4</td>\n",
       "      <td>[Neutral, Neutral, Neutral, Neutral, Neutral, ...</td>\n",
       "      <td>I have over 7 years of experience in software ...</td>\n",
       "      <td>0.938287</td>\n",
       "    </tr>\n",
       "    <tr>\n",
       "      <th>1</th>\n",
       "      <td>1</td>\n",
       "      <td>WIN_20240423_10_58_26_Pro.mp4</td>\n",
       "      <td>[Neutral, Neutral, Sad, Neutral, Neutral, Neut...</td>\n",
       "      <td>I am finally familiar with Transformer models ...</td>\n",
       "      <td>0.878067</td>\n",
       "    </tr>\n",
       "    <tr>\n",
       "      <th>2</th>\n",
       "      <td>2</td>\n",
       "      <td>WIN_20240423_11_30_47_Pro.mp4</td>\n",
       "      <td>[Neutral, Neutral, Neutral, Neutral, Neutral, ...</td>\n",
       "      <td>one of the key challenges in designing a chatb...</td>\n",
       "      <td>0.965636</td>\n",
       "    </tr>\n",
       "  </tbody>\n",
       "</table>\n",
       "</div>"
      ],
      "text/plain": [
       "   Unnamed: 0                          Video  \\\n",
       "0           0  WIN_20240422_02_29_40_Pro.mp4   \n",
       "1           1  WIN_20240423_10_58_26_Pro.mp4   \n",
       "2           2  WIN_20240423_11_30_47_Pro.mp4   \n",
       "\n",
       "                                            Emotions  \\\n",
       "0  [Neutral, Neutral, Neutral, Neutral, Neutral, ...   \n",
       "1  [Neutral, Neutral, Sad, Neutral, Neutral, Neut...   \n",
       "2  [Neutral, Neutral, Neutral, Neutral, Neutral, ...   \n",
       "\n",
       "                                    Transcribed_Text  Total_Score  \n",
       "0  I have over 7 years of experience in software ...     0.938287  \n",
       "1  I am finally familiar with Transformer models ...     0.878067  \n",
       "2  one of the key challenges in designing a chatb...     0.965636  "
      ]
     },
     "execution_count": 35,
     "metadata": {},
     "output_type": "execute_result"
    }
   ],
   "source": [
    "df"
   ]
  },
  {
   "cell_type": "code",
   "execution_count": 38,
   "metadata": {},
   "outputs": [
    {
     "data": {
      "text/html": [
       "<div>\n",
       "<style scoped>\n",
       "    .dataframe tbody tr th:only-of-type {\n",
       "        vertical-align: middle;\n",
       "    }\n",
       "\n",
       "    .dataframe tbody tr th {\n",
       "        vertical-align: top;\n",
       "    }\n",
       "\n",
       "    .dataframe thead th {\n",
       "        text-align: right;\n",
       "    }\n",
       "</style>\n",
       "<table border=\"1\" class=\"dataframe\">\n",
       "  <thead>\n",
       "    <tr style=\"text-align: right;\">\n",
       "      <th></th>\n",
       "      <th>question</th>\n",
       "      <th>answer</th>\n",
       "    </tr>\n",
       "  </thead>\n",
       "  <tbody>\n",
       "    <tr>\n",
       "      <th>0</th>\n",
       "      <td>Can you explain your experience in building an...</td>\n",
       "      <td>Experience in building chatbots and NLP system...</td>\n",
       "    </tr>\n",
       "    <tr>\n",
       "      <th>1</th>\n",
       "      <td>How familiar are you with transformer models s...</td>\n",
       "      <td>Familiarity with transformer models: I am high...</td>\n",
       "    </tr>\n",
       "    <tr>\n",
       "      <th>2</th>\n",
       "      <td>In your opinion, what are the key challenges i...</td>\n",
       "      <td>Challenges in architecting chatbots for corpor...</td>\n",
       "    </tr>\n",
       "    <tr>\n",
       "      <th>3</th>\n",
       "      <td>Describe your approach to curating, testing, a...</td>\n",
       "      <td>Approach to curating and maintaining datasets:...</td>\n",
       "    </tr>\n",
       "    <tr>\n",
       "      <th>4</th>\n",
       "      <td>Can you discuss a time when you had to determi...</td>\n",
       "      <td>Determining intents and creating chat workflow...</td>\n",
       "    </tr>\n",
       "    <tr>\n",
       "      <th>5</th>\n",
       "      <td>How do you ensure scalability and performance ...</td>\n",
       "      <td>Scalability of database models: Scalability is...</td>\n",
       "    </tr>\n",
       "    <tr>\n",
       "      <th>6</th>\n",
       "      <td>Have you worked on integrating AI-driven platf...</td>\n",
       "      <td>Integrating AI-driven platforms into communica...</td>\n",
       "    </tr>\n",
       "  </tbody>\n",
       "</table>\n",
       "</div>"
      ],
      "text/plain": [
       "                                            question  \\\n",
       "0  Can you explain your experience in building an...   \n",
       "1  How familiar are you with transformer models s...   \n",
       "2  In your opinion, what are the key challenges i...   \n",
       "3  Describe your approach to curating, testing, a...   \n",
       "4  Can you discuss a time when you had to determi...   \n",
       "5  How do you ensure scalability and performance ...   \n",
       "6  Have you worked on integrating AI-driven platf...   \n",
       "\n",
       "                                              answer  \n",
       "0  Experience in building chatbots and NLP system...  \n",
       "1  Familiarity with transformer models: I am high...  \n",
       "2  Challenges in architecting chatbots for corpor...  \n",
       "3  Approach to curating and maintaining datasets:...  \n",
       "4  Determining intents and creating chat workflow...  \n",
       "5  Scalability of database models: Scalability is...  \n",
       "6  Integrating AI-driven platforms into communica...  "
      ]
     },
     "execution_count": 38,
     "metadata": {},
     "output_type": "execute_result"
    }
   ],
   "source": [
    "df_ = pd.read_csv('question/data.csv')\n",
    "df_"
   ]
  },
  {
   "cell_type": "code",
   "execution_count": 39,
   "metadata": {},
   "outputs": [
    {
     "data": {
      "text/html": [
       "<div>\n",
       "<style scoped>\n",
       "    .dataframe tbody tr th:only-of-type {\n",
       "        vertical-align: middle;\n",
       "    }\n",
       "\n",
       "    .dataframe tbody tr th {\n",
       "        vertical-align: top;\n",
       "    }\n",
       "\n",
       "    .dataframe thead th {\n",
       "        text-align: right;\n",
       "    }\n",
       "</style>\n",
       "<table border=\"1\" class=\"dataframe\">\n",
       "  <thead>\n",
       "    <tr style=\"text-align: right;\">\n",
       "      <th></th>\n",
       "      <th>Unnamed: 0</th>\n",
       "      <th>Video</th>\n",
       "      <th>Emotions</th>\n",
       "      <th>Transcribed_Text</th>\n",
       "      <th>Total_Score</th>\n",
       "      <th>question</th>\n",
       "    </tr>\n",
       "  </thead>\n",
       "  <tbody>\n",
       "    <tr>\n",
       "      <th>0</th>\n",
       "      <td>0</td>\n",
       "      <td>WIN_20240422_02_29_40_Pro.mp4</td>\n",
       "      <td>[Neutral, Neutral, Neutral, Neutral, Neutral, ...</td>\n",
       "      <td>I have over 7 years of experience in software ...</td>\n",
       "      <td>0.938287</td>\n",
       "      <td>Can you explain your experience in building an...</td>\n",
       "    </tr>\n",
       "    <tr>\n",
       "      <th>1</th>\n",
       "      <td>1</td>\n",
       "      <td>WIN_20240423_10_58_26_Pro.mp4</td>\n",
       "      <td>[Neutral, Neutral, Sad, Neutral, Neutral, Neut...</td>\n",
       "      <td>I am finally familiar with Transformer models ...</td>\n",
       "      <td>0.878067</td>\n",
       "      <td>How familiar are you with transformer models s...</td>\n",
       "    </tr>\n",
       "    <tr>\n",
       "      <th>2</th>\n",
       "      <td>2</td>\n",
       "      <td>WIN_20240423_11_30_47_Pro.mp4</td>\n",
       "      <td>[Neutral, Neutral, Neutral, Neutral, Neutral, ...</td>\n",
       "      <td>one of the key challenges in designing a chatb...</td>\n",
       "      <td>0.965636</td>\n",
       "      <td>In your opinion, what are the key challenges i...</td>\n",
       "    </tr>\n",
       "  </tbody>\n",
       "</table>\n",
       "</div>"
      ],
      "text/plain": [
       "   Unnamed: 0                          Video  \\\n",
       "0           0  WIN_20240422_02_29_40_Pro.mp4   \n",
       "1           1  WIN_20240423_10_58_26_Pro.mp4   \n",
       "2           2  WIN_20240423_11_30_47_Pro.mp4   \n",
       "\n",
       "                                            Emotions  \\\n",
       "0  [Neutral, Neutral, Neutral, Neutral, Neutral, ...   \n",
       "1  [Neutral, Neutral, Sad, Neutral, Neutral, Neut...   \n",
       "2  [Neutral, Neutral, Neutral, Neutral, Neutral, ...   \n",
       "\n",
       "                                    Transcribed_Text  Total_Score  \\\n",
       "0  I have over 7 years of experience in software ...     0.938287   \n",
       "1  I am finally familiar with Transformer models ...     0.878067   \n",
       "2  one of the key challenges in designing a chatb...     0.965636   \n",
       "\n",
       "                                            question  \n",
       "0  Can you explain your experience in building an...  \n",
       "1  How familiar are you with transformer models s...  \n",
       "2  In your opinion, what are the key challenges i...  "
      ]
     },
     "execution_count": 39,
     "metadata": {},
     "output_type": "execute_result"
    }
   ],
   "source": [
    "df['question'] =  df_['question']\n",
    "df"
   ]
  },
  {
   "cell_type": "code",
   "execution_count": 42,
   "metadata": {},
   "outputs": [
    {
     "name": "stdout",
     "output_type": "stream",
     "text": [
      "Response Content:  I would score this answer a 9. The answer clearly states that the person has experience with building and fine-tuning chatbots and NLP systems in the travel industry for the past three years, specifically leading a team to develop a chatbot utilizing Transformer models and fine-tuning techniques. This information is relevant and detailed enough to give a high score.\n",
      "['9']\n",
      "9\n",
      "Response Content:  I would score this answer a 9. The person clearly answered the question by stating their familiarity with Transformer models, specifically OpenAI and Hugging Face, and discussing a project where they utilized these models to build a chatbot for travel management. They also provided a brief description of the project's purpose and how the models were used, which adds value to the answer.\n",
      "['9']\n",
      "9\n",
      "Response Content:  I would score the answer as 8. The person identified one of the key challenges in designing a chatbot for corporate travel as handling the complexity of travel itineraries and understanding user intents accurately. They proposed a solution by suggesting the creation of a robust hierarchical-based orchestration layer to manage various intents and workflows simultaneously. This is a good start to addressing these challenges, demonstrating an understanding of the problem domain and offering a potential solution. However, it would be helpful if they could expand on the specifics of how this orchestration layer would be implemented, such as the technologies or tools that would be used, and any potential limitations or considerations.\n",
      "['8']\n",
      "8\n"
     ]
    }
   ],
   "source": [
    "score = []\n",
    "remark = []\n",
    "for i in range (0,len(df)):\n",
    "    model = \"interview\"\n",
    "    prompt_1 = df['question'][i]\n",
    "    prompt_2 = df['Transcribed_Text'][i]\n",
    "    prompt = \"question:\" + prompt_1 + \"answer:\" + prompt_2\n",
    "    response_content = generate_response(model, prompt)\n",
    "    print(\"Response Content:\", response_content)\n",
    "    integers = re.findall(r'\\d+', response_content)\n",
    "    remark.append(response_content)\n",
    "    print(integers)\n",
    "    print(integers[0])\n",
    "    score.append(integers[0])\n",
    "df['score'] = score\n",
    "df['remark'] = remark"
   ]
  },
  {
   "cell_type": "code",
   "execution_count": 55,
   "metadata": {},
   "outputs": [
    {
     "data": {
      "text/plain": [
       "0    91.276238\n",
       "1    89.268916\n",
       "2    85.521191\n",
       "Name: Final_score, dtype: float64"
      ]
     },
     "execution_count": 55,
     "metadata": {},
     "output_type": "execute_result"
    }
   ],
   "source": [
    "df['Final_score'] = (5*df['Total_Score'] + df['score'].astype(int))/15\n",
    "df['Final_score']*100\n",
    "final = df['Final_score'].sum()/len(df)"
   ]
  },
  {
   "cell_type": "code",
   "execution_count": 60,
   "metadata": {},
   "outputs": [],
   "source": [
    "df.to_csv('hello.csv',index=False)"
   ]
  },
  {
   "cell_type": "code",
   "execution_count": null,
   "metadata": {},
   "outputs": [],
   "source": []
  }
 ],
 "metadata": {
  "kernelspec": {
   "display_name": "base",
   "language": "python",
   "name": "python3"
  },
  "language_info": {
   "codemirror_mode": {
    "name": "ipython",
    "version": 3
   },
   "file_extension": ".py",
   "mimetype": "text/x-python",
   "name": "python",
   "nbconvert_exporter": "python",
   "pygments_lexer": "ipython3",
   "version": "3.11.7"
  }
 },
 "nbformat": 4,
 "nbformat_minor": 2
}
